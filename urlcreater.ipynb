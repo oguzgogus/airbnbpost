{
 "cells": [
  {
   "cell_type": "code",
   "execution_count": 1,
   "metadata": {},
   "outputs": [],
   "source": [
    "def prepare_request(city, checkin=None, checkout=None, price_min=None, price_max=None, currency='TRY'):\n",
    "    \"\"\" Given a city and eventual dates, and eventual prices, returns the airbnb url to scrap\n",
    "        Both dates must be strings formatted 'YYYY-MM-DD'\n",
    "    \"\"\"\n",
    "    url = f'https://www.airbnb.com/s/{city}/homes/?' \n",
    "    if checkin and checkout:\n",
    "        url += f'&checkin={checkin}&checkout={checkout}'\n",
    "    if price_min and price_max:\n",
    "        url+= f'&price_min={price_min}&price_max={price_max}&display_currency={currency}'\n",
    "    return url"
   ]
  },
  {
   "cell_type": "code",
   "execution_count": 17,
   "metadata": {},
   "outputs": [
    {
     "data": {
      "text/plain": [
       "'https://www.airbnb.com/s/istanbul--Turkey/homes/?&flexible_trip_dates%5B%5D=april&flexible_trip_lengths%5B%5D=weekend_trip&flexible_trip_dates%5B%5D=march&price_min=100&price_max=101&display_currency=TRY&neighborhood_ids%5B%5D=2445'"
      ]
     },
     "execution_count": 17,
     "metadata": {},
     "output_type": "execute_result"
    }
   ],
   "source": [
    "prepare_request('istanbul--Turkey', '2021-03-01', '2021-03-08', price_min=100, price_max=101,area_id = 2445)"
   ]
  },
  {
   "cell_type": "code",
   "execution_count": 28,
   "metadata": {},
   "outputs": [],
   "source": [
    "def prepare_request(city, checkin=None, checkout=None, price_min=None, price_max=None, currency='TRY',flexi = True, area_id = None):\n",
    "    \"\"\" Given a city and eventual dates, and eventual prices, returns the airbnb url to scrap\n",
    "        Both dates must be strings formatted 'YYYY-MM-DD'\n",
    "    \"\"\"\n",
    "    url = f'https://www.airbnb.com/s/{city}/homes/?' \n",
    "    \n",
    "    if flexi == True:\n",
    "        url += f'&flexible_trip_dates%5B%5D=april&flexible_trip_lengths%5B%5D=weekend_trip&flexible_trip_dates%5B%5D=march' \n",
    "    if checkin and checkout and flexi == False:\n",
    "        url += f'&checkin={checkin}&checkout={checkout}'\n",
    "    if price_min and price_max:\n",
    "        url+= f'&price_min={price_min}&price_max={price_max}&display_currency={currency}'\n",
    "    if area_id :\n",
    "        url += f'&neighborhood_ids%5B%5D={area_id}'    \n",
    "        \n",
    "        \n",
    "    return url"
   ]
  },
  {
   "cell_type": "code",
   "execution_count": 18,
   "metadata": {},
   "outputs": [
    {
     "data": {
      "text/plain": [
       "'https://www.airbnb.com/s/istanbul--Turkey/homes/?&flexible_trip_dates%5B%5D=april&flexible_trip_lengths%5B%5D=weekend_trip&flexible_trip_dates%5B%5D=march&price_min=120&price_max=121&display_currency=TRY&neighborhood_ids%5B%5D=2488'"
      ]
     },
     "execution_count": 18,
     "metadata": {},
     "output_type": "execute_result"
    }
   ],
   "source": [
    "prepare_request('istanbul--Turkey', '2021-03-01', '2021-03-08', price_min=120, price_max=121,area_id = 2488)"
   ]
  },
  {
   "cell_type": "code",
   "execution_count": 30,
   "metadata": {},
   "outputs": [
    {
     "data": {
      "text/plain": [
       "'https://www.airbnb.com/s/istanbul--Turkey/homes/?&checkin=2021-04-09&checkout=2021-04-12&price_min=100&price_max=101&display_currency=TRY&neighborhood_ids%5B%5D=2445'"
      ]
     },
     "execution_count": 30,
     "metadata": {},
     "output_type": "execute_result"
    }
   ],
   "source": [
    "prepare_request('istanbul--Turkey', '2021-04-09', '2021-04-12', price_min=100, price_max=101,area_id = 2445,flexi =False)"
   ]
  },
  {
   "cell_type": "code",
   "execution_count": null,
   "metadata": {},
   "outputs": [],
   "source": [
    "urllist=[]\n",
    "for url in url:\n",
    "    url"
   ]
  },
  {
   "cell_type": "code",
   "execution_count": 40,
   "metadata": {},
   "outputs": [
    {
     "data": {
      "text/html": [
       "<div>\n",
       "<style scoped>\n",
       "    .dataframe tbody tr th:only-of-type {\n",
       "        vertical-align: middle;\n",
       "    }\n",
       "\n",
       "    .dataframe tbody tr th {\n",
       "        vertical-align: top;\n",
       "    }\n",
       "\n",
       "    .dataframe thead th {\n",
       "        text-align: right;\n",
       "    }\n",
       "</style>\n",
       "<table border=\"1\" class=\"dataframe\">\n",
       "  <thead>\n",
       "    <tr style=\"text-align: right;\">\n",
       "      <th></th>\n",
       "      <th>area_id</th>\n",
       "      <th>area_name</th>\n",
       "    </tr>\n",
       "  </thead>\n",
       "  <tbody>\n",
       "    <tr>\n",
       "      <th>0</th>\n",
       "      <td>2411</td>\n",
       "      <td>aksaray</td>\n",
       "    </tr>\n",
       "    <tr>\n",
       "      <th>1</th>\n",
       "      <td>2341</td>\n",
       "      <td>beyoglu</td>\n",
       "    </tr>\n",
       "    <tr>\n",
       "      <th>2</th>\n",
       "      <td>2488</td>\n",
       "      <td>besiktas</td>\n",
       "    </tr>\n",
       "    <tr>\n",
       "      <th>3</th>\n",
       "      <td>2350</td>\n",
       "      <td>cihangir</td>\n",
       "    </tr>\n",
       "    <tr>\n",
       "      <th>4</th>\n",
       "      <td>2340</td>\n",
       "      <td>eminonu</td>\n",
       "    </tr>\n",
       "    <tr>\n",
       "      <th>5</th>\n",
       "      <td>2339</td>\n",
       "      <td>fatih</td>\n",
       "    </tr>\n",
       "    <tr>\n",
       "      <th>6</th>\n",
       "      <td>2445</td>\n",
       "      <td>kadikoy</td>\n",
       "    </tr>\n",
       "    <tr>\n",
       "      <th>7</th>\n",
       "      <td>2526</td>\n",
       "      <td>kadikoy merkez</td>\n",
       "    </tr>\n",
       "    <tr>\n",
       "      <th>8</th>\n",
       "      <td>2342</td>\n",
       "      <td>karakoy</td>\n",
       "    </tr>\n",
       "    <tr>\n",
       "      <th>9</th>\n",
       "      <td>2525</td>\n",
       "      <td>moda</td>\n",
       "    </tr>\n",
       "    <tr>\n",
       "      <th>10</th>\n",
       "      <td>2524</td>\n",
       "      <td>ortakoy</td>\n",
       "    </tr>\n",
       "    <tr>\n",
       "      <th>11</th>\n",
       "      <td>2431</td>\n",
       "      <td>sultanahmet</td>\n",
       "    </tr>\n",
       "    <tr>\n",
       "      <th>12</th>\n",
       "      <td>2523</td>\n",
       "      <td>taksim</td>\n",
       "    </tr>\n",
       "    <tr>\n",
       "      <th>13</th>\n",
       "      <td>2444</td>\n",
       "      <td>uskudar</td>\n",
       "    </tr>\n",
       "    <tr>\n",
       "      <th>14</th>\n",
       "      <td>2443</td>\n",
       "      <td>sisli</td>\n",
       "    </tr>\n",
       "  </tbody>\n",
       "</table>\n",
       "</div>"
      ],
      "text/plain": [
       "    area_id       area_name\n",
       "0      2411         aksaray\n",
       "1      2341         beyoglu\n",
       "2      2488        besiktas\n",
       "3      2350        cihangir\n",
       "4      2340         eminonu\n",
       "5      2339           fatih\n",
       "6      2445         kadikoy\n",
       "7      2526  kadikoy merkez\n",
       "8      2342         karakoy\n",
       "9      2525            moda\n",
       "10     2524         ortakoy\n",
       "11     2431     sultanahmet\n",
       "12     2523          taksim\n",
       "13     2444         uskudar\n",
       "14     2443           sisli"
      ]
     },
     "execution_count": 40,
     "metadata": {},
     "output_type": "execute_result"
    }
   ],
   "source": [
    "import pandas as pd\n",
    "import numpy as np\n",
    "areas = {'area_id': [2411,2341,2488,2350,2340,2339,2445,2526,2342,2525,2524,2431,2523,2444,2443],\n",
    "         'area_name' : ['aksaray','beyoglu','besiktas','cihangir','eminonu','fatih','kadikoy','kadikoy merkez','karakoy','moda','ortakoy','sultanahmet','taksim','uskudar','sisli']   }\n",
    "areas_df = pd.DataFrame(areas)\n",
    "areas_df"
   ]
  },
  {
   "cell_type": "code",
   "execution_count": 43,
   "metadata": {},
   "outputs": [
    {
     "data": {
      "text/html": [
       "<div>\n",
       "<style scoped>\n",
       "    .dataframe tbody tr th:only-of-type {\n",
       "        vertical-align: middle;\n",
       "    }\n",
       "\n",
       "    .dataframe tbody tr th {\n",
       "        vertical-align: top;\n",
       "    }\n",
       "\n",
       "    .dataframe thead th {\n",
       "        text-align: right;\n",
       "    }\n",
       "</style>\n",
       "<table border=\"1\" class=\"dataframe\">\n",
       "  <thead>\n",
       "    <tr style=\"text-align: right;\">\n",
       "      <th></th>\n",
       "      <th>levels</th>\n",
       "      <th>Min</th>\n",
       "      <th>Max</th>\n",
       "    </tr>\n",
       "  </thead>\n",
       "  <tbody>\n",
       "    <tr>\n",
       "      <th>0</th>\n",
       "      <td>1</td>\n",
       "      <td>1</td>\n",
       "      <td>20</td>\n",
       "    </tr>\n",
       "    <tr>\n",
       "      <th>1</th>\n",
       "      <td>2</td>\n",
       "      <td>20</td>\n",
       "      <td>25</td>\n",
       "    </tr>\n",
       "    <tr>\n",
       "      <th>2</th>\n",
       "      <td>3</td>\n",
       "      <td>26</td>\n",
       "      <td>31</td>\n",
       "    </tr>\n",
       "    <tr>\n",
       "      <th>3</th>\n",
       "      <td>4</td>\n",
       "      <td>31</td>\n",
       "      <td>36</td>\n",
       "    </tr>\n",
       "    <tr>\n",
       "      <th>4</th>\n",
       "      <td>5</td>\n",
       "      <td>37</td>\n",
       "      <td>42</td>\n",
       "    </tr>\n",
       "    <tr>\n",
       "      <th>5</th>\n",
       "      <td>6</td>\n",
       "      <td>43</td>\n",
       "      <td>47</td>\n",
       "    </tr>\n",
       "    <tr>\n",
       "      <th>6</th>\n",
       "      <td>7</td>\n",
       "      <td>48</td>\n",
       "      <td>54</td>\n",
       "    </tr>\n",
       "    <tr>\n",
       "      <th>7</th>\n",
       "      <td>8</td>\n",
       "      <td>55</td>\n",
       "      <td>65</td>\n",
       "    </tr>\n",
       "    <tr>\n",
       "      <th>8</th>\n",
       "      <td>9</td>\n",
       "      <td>66</td>\n",
       "      <td>76</td>\n",
       "    </tr>\n",
       "    <tr>\n",
       "      <th>9</th>\n",
       "      <td>10</td>\n",
       "      <td>77</td>\n",
       "      <td>100</td>\n",
       "    </tr>\n",
       "    <tr>\n",
       "      <th>10</th>\n",
       "      <td>11</td>\n",
       "      <td>101</td>\n",
       "      <td>500</td>\n",
       "    </tr>\n",
       "  </tbody>\n",
       "</table>\n",
       "</div>"
      ],
      "text/plain": [
       "    levels  Min  Max\n",
       "0        1    1   20\n",
       "1        2   20   25\n",
       "2        3   26   31\n",
       "3        4   31   36\n",
       "4        5   37   42\n",
       "5        6   43   47\n",
       "6        7   48   54\n",
       "7        8   55   65\n",
       "8        9   66   76\n",
       "9       10   77  100\n",
       "10      11  101  500"
      ]
     },
     "execution_count": 43,
     "metadata": {},
     "output_type": "execute_result"
    }
   ],
   "source": [
    "pricelevels = {'levels' : [1,2,3,4,5,6,7,8,9,10,11],\n",
    "                'Min' : [1,20,26,31,37,43,48,55,66,77,101],\n",
    "               'Max' : [20,25,31,36,42,47,54,65,76,100,500] }\n",
    "\n",
    "price_levels_df = pd.DataFrame(pricelevels)\n",
    "price_levels_df"
   ]
  },
  {
   "cell_type": "code",
   "execution_count": 44,
   "metadata": {},
   "outputs": [],
   "source": [
    "test = [prepare_request('istanbul--Turkey', '2021-04-09', '2021-04-12', price_min=100, price_max=101,area_id = 2445,flexi =False)]"
   ]
  },
  {
   "cell_type": "code",
   "execution_count": 50,
   "metadata": {},
   "outputs": [
    {
     "name": "stdout",
     "output_type": "stream",
     "text": [
      "['https://www.airbnb.com/s/istanbul--Turkey/homes/?&checkin=2021-04-09&checkout=2021-04-12&price_min=1&price_max=20&display_currency=TRY&neighborhood_ids%5B%5D=2411', 'https://www.airbnb.com/s/istanbul--Turkey/homes/?&checkin=2021-04-09&checkout=2021-04-12&price_min=20&price_max=25&display_currency=TRY&neighborhood_ids%5B%5D=2411', 'https://www.airbnb.com/s/istanbul--Turkey/homes/?&checkin=2021-04-09&checkout=2021-04-12&price_min=26&price_max=31&display_currency=TRY&neighborhood_ids%5B%5D=2411', 'https://www.airbnb.com/s/istanbul--Turkey/homes/?&checkin=2021-04-09&checkout=2021-04-12&price_min=31&price_max=36&display_currency=TRY&neighborhood_ids%5B%5D=2411', 'https://www.airbnb.com/s/istanbul--Turkey/homes/?&checkin=2021-04-09&checkout=2021-04-12&price_min=37&price_max=42&display_currency=TRY&neighborhood_ids%5B%5D=2411', 'https://www.airbnb.com/s/istanbul--Turkey/homes/?&checkin=2021-04-09&checkout=2021-04-12&price_min=43&price_max=47&display_currency=TRY&neighborhood_ids%5B%5D=2411', 'https://www.airbnb.com/s/istanbul--Turkey/homes/?&checkin=2021-04-09&checkout=2021-04-12&price_min=48&price_max=54&display_currency=TRY&neighborhood_ids%5B%5D=2411', 'https://www.airbnb.com/s/istanbul--Turkey/homes/?&checkin=2021-04-09&checkout=2021-04-12&price_min=55&price_max=65&display_currency=TRY&neighborhood_ids%5B%5D=2411', 'https://www.airbnb.com/s/istanbul--Turkey/homes/?&checkin=2021-04-09&checkout=2021-04-12&price_min=66&price_max=76&display_currency=TRY&neighborhood_ids%5B%5D=2411', 'https://www.airbnb.com/s/istanbul--Turkey/homes/?&checkin=2021-04-09&checkout=2021-04-12&price_min=77&price_max=100&display_currency=TRY&neighborhood_ids%5B%5D=2411', 'https://www.airbnb.com/s/istanbul--Turkey/homes/?&checkin=2021-04-09&checkout=2021-04-12&price_min=1&price_max=20&display_currency=TRY&neighborhood_ids%5B%5D=2341', 'https://www.airbnb.com/s/istanbul--Turkey/homes/?&checkin=2021-04-09&checkout=2021-04-12&price_min=20&price_max=25&display_currency=TRY&neighborhood_ids%5B%5D=2341', 'https://www.airbnb.com/s/istanbul--Turkey/homes/?&checkin=2021-04-09&checkout=2021-04-12&price_min=26&price_max=31&display_currency=TRY&neighborhood_ids%5B%5D=2341', 'https://www.airbnb.com/s/istanbul--Turkey/homes/?&checkin=2021-04-09&checkout=2021-04-12&price_min=31&price_max=36&display_currency=TRY&neighborhood_ids%5B%5D=2341', 'https://www.airbnb.com/s/istanbul--Turkey/homes/?&checkin=2021-04-09&checkout=2021-04-12&price_min=37&price_max=42&display_currency=TRY&neighborhood_ids%5B%5D=2341', 'https://www.airbnb.com/s/istanbul--Turkey/homes/?&checkin=2021-04-09&checkout=2021-04-12&price_min=43&price_max=47&display_currency=TRY&neighborhood_ids%5B%5D=2341', 'https://www.airbnb.com/s/istanbul--Turkey/homes/?&checkin=2021-04-09&checkout=2021-04-12&price_min=48&price_max=54&display_currency=TRY&neighborhood_ids%5B%5D=2341', 'https://www.airbnb.com/s/istanbul--Turkey/homes/?&checkin=2021-04-09&checkout=2021-04-12&price_min=55&price_max=65&display_currency=TRY&neighborhood_ids%5B%5D=2341', 'https://www.airbnb.com/s/istanbul--Turkey/homes/?&checkin=2021-04-09&checkout=2021-04-12&price_min=66&price_max=76&display_currency=TRY&neighborhood_ids%5B%5D=2341', 'https://www.airbnb.com/s/istanbul--Turkey/homes/?&checkin=2021-04-09&checkout=2021-04-12&price_min=77&price_max=100&display_currency=TRY&neighborhood_ids%5B%5D=2341', 'https://www.airbnb.com/s/istanbul--Turkey/homes/?&checkin=2021-04-09&checkout=2021-04-12&price_min=1&price_max=20&display_currency=TRY&neighborhood_ids%5B%5D=2488', 'https://www.airbnb.com/s/istanbul--Turkey/homes/?&checkin=2021-04-09&checkout=2021-04-12&price_min=20&price_max=25&display_currency=TRY&neighborhood_ids%5B%5D=2488', 'https://www.airbnb.com/s/istanbul--Turkey/homes/?&checkin=2021-04-09&checkout=2021-04-12&price_min=26&price_max=31&display_currency=TRY&neighborhood_ids%5B%5D=2488', 'https://www.airbnb.com/s/istanbul--Turkey/homes/?&checkin=2021-04-09&checkout=2021-04-12&price_min=31&price_max=36&display_currency=TRY&neighborhood_ids%5B%5D=2488', 'https://www.airbnb.com/s/istanbul--Turkey/homes/?&checkin=2021-04-09&checkout=2021-04-12&price_min=37&price_max=42&display_currency=TRY&neighborhood_ids%5B%5D=2488', 'https://www.airbnb.com/s/istanbul--Turkey/homes/?&checkin=2021-04-09&checkout=2021-04-12&price_min=43&price_max=47&display_currency=TRY&neighborhood_ids%5B%5D=2488', 'https://www.airbnb.com/s/istanbul--Turkey/homes/?&checkin=2021-04-09&checkout=2021-04-12&price_min=48&price_max=54&display_currency=TRY&neighborhood_ids%5B%5D=2488', 'https://www.airbnb.com/s/istanbul--Turkey/homes/?&checkin=2021-04-09&checkout=2021-04-12&price_min=55&price_max=65&display_currency=TRY&neighborhood_ids%5B%5D=2488', 'https://www.airbnb.com/s/istanbul--Turkey/homes/?&checkin=2021-04-09&checkout=2021-04-12&price_min=66&price_max=76&display_currency=TRY&neighborhood_ids%5B%5D=2488', 'https://www.airbnb.com/s/istanbul--Turkey/homes/?&checkin=2021-04-09&checkout=2021-04-12&price_min=77&price_max=100&display_currency=TRY&neighborhood_ids%5B%5D=2488', 'https://www.airbnb.com/s/istanbul--Turkey/homes/?&checkin=2021-04-09&checkout=2021-04-12&price_min=1&price_max=20&display_currency=TRY&neighborhood_ids%5B%5D=2350', 'https://www.airbnb.com/s/istanbul--Turkey/homes/?&checkin=2021-04-09&checkout=2021-04-12&price_min=20&price_max=25&display_currency=TRY&neighborhood_ids%5B%5D=2350', 'https://www.airbnb.com/s/istanbul--Turkey/homes/?&checkin=2021-04-09&checkout=2021-04-12&price_min=26&price_max=31&display_currency=TRY&neighborhood_ids%5B%5D=2350', 'https://www.airbnb.com/s/istanbul--Turkey/homes/?&checkin=2021-04-09&checkout=2021-04-12&price_min=31&price_max=36&display_currency=TRY&neighborhood_ids%5B%5D=2350', 'https://www.airbnb.com/s/istanbul--Turkey/homes/?&checkin=2021-04-09&checkout=2021-04-12&price_min=37&price_max=42&display_currency=TRY&neighborhood_ids%5B%5D=2350', 'https://www.airbnb.com/s/istanbul--Turkey/homes/?&checkin=2021-04-09&checkout=2021-04-12&price_min=43&price_max=47&display_currency=TRY&neighborhood_ids%5B%5D=2350', 'https://www.airbnb.com/s/istanbul--Turkey/homes/?&checkin=2021-04-09&checkout=2021-04-12&price_min=48&price_max=54&display_currency=TRY&neighborhood_ids%5B%5D=2350', 'https://www.airbnb.com/s/istanbul--Turkey/homes/?&checkin=2021-04-09&checkout=2021-04-12&price_min=55&price_max=65&display_currency=TRY&neighborhood_ids%5B%5D=2350', 'https://www.airbnb.com/s/istanbul--Turkey/homes/?&checkin=2021-04-09&checkout=2021-04-12&price_min=66&price_max=76&display_currency=TRY&neighborhood_ids%5B%5D=2350', 'https://www.airbnb.com/s/istanbul--Turkey/homes/?&checkin=2021-04-09&checkout=2021-04-12&price_min=77&price_max=100&display_currency=TRY&neighborhood_ids%5B%5D=2350', 'https://www.airbnb.com/s/istanbul--Turkey/homes/?&checkin=2021-04-09&checkout=2021-04-12&price_min=1&price_max=20&display_currency=TRY&neighborhood_ids%5B%5D=2340', 'https://www.airbnb.com/s/istanbul--Turkey/homes/?&checkin=2021-04-09&checkout=2021-04-12&price_min=20&price_max=25&display_currency=TRY&neighborhood_ids%5B%5D=2340', 'https://www.airbnb.com/s/istanbul--Turkey/homes/?&checkin=2021-04-09&checkout=2021-04-12&price_min=26&price_max=31&display_currency=TRY&neighborhood_ids%5B%5D=2340', 'https://www.airbnb.com/s/istanbul--Turkey/homes/?&checkin=2021-04-09&checkout=2021-04-12&price_min=31&price_max=36&display_currency=TRY&neighborhood_ids%5B%5D=2340', 'https://www.airbnb.com/s/istanbul--Turkey/homes/?&checkin=2021-04-09&checkout=2021-04-12&price_min=37&price_max=42&display_currency=TRY&neighborhood_ids%5B%5D=2340', 'https://www.airbnb.com/s/istanbul--Turkey/homes/?&checkin=2021-04-09&checkout=2021-04-12&price_min=43&price_max=47&display_currency=TRY&neighborhood_ids%5B%5D=2340', 'https://www.airbnb.com/s/istanbul--Turkey/homes/?&checkin=2021-04-09&checkout=2021-04-12&price_min=48&price_max=54&display_currency=TRY&neighborhood_ids%5B%5D=2340', 'https://www.airbnb.com/s/istanbul--Turkey/homes/?&checkin=2021-04-09&checkout=2021-04-12&price_min=55&price_max=65&display_currency=TRY&neighborhood_ids%5B%5D=2340', 'https://www.airbnb.com/s/istanbul--Turkey/homes/?&checkin=2021-04-09&checkout=2021-04-12&price_min=66&price_max=76&display_currency=TRY&neighborhood_ids%5B%5D=2340', 'https://www.airbnb.com/s/istanbul--Turkey/homes/?&checkin=2021-04-09&checkout=2021-04-12&price_min=77&price_max=100&display_currency=TRY&neighborhood_ids%5B%5D=2340', 'https://www.airbnb.com/s/istanbul--Turkey/homes/?&checkin=2021-04-09&checkout=2021-04-12&price_min=1&price_max=20&display_currency=TRY&neighborhood_ids%5B%5D=2339', 'https://www.airbnb.com/s/istanbul--Turkey/homes/?&checkin=2021-04-09&checkout=2021-04-12&price_min=20&price_max=25&display_currency=TRY&neighborhood_ids%5B%5D=2339', 'https://www.airbnb.com/s/istanbul--Turkey/homes/?&checkin=2021-04-09&checkout=2021-04-12&price_min=26&price_max=31&display_currency=TRY&neighborhood_ids%5B%5D=2339', 'https://www.airbnb.com/s/istanbul--Turkey/homes/?&checkin=2021-04-09&checkout=2021-04-12&price_min=31&price_max=36&display_currency=TRY&neighborhood_ids%5B%5D=2339', 'https://www.airbnb.com/s/istanbul--Turkey/homes/?&checkin=2021-04-09&checkout=2021-04-12&price_min=37&price_max=42&display_currency=TRY&neighborhood_ids%5B%5D=2339', 'https://www.airbnb.com/s/istanbul--Turkey/homes/?&checkin=2021-04-09&checkout=2021-04-12&price_min=43&price_max=47&display_currency=TRY&neighborhood_ids%5B%5D=2339', 'https://www.airbnb.com/s/istanbul--Turkey/homes/?&checkin=2021-04-09&checkout=2021-04-12&price_min=48&price_max=54&display_currency=TRY&neighborhood_ids%5B%5D=2339', 'https://www.airbnb.com/s/istanbul--Turkey/homes/?&checkin=2021-04-09&checkout=2021-04-12&price_min=55&price_max=65&display_currency=TRY&neighborhood_ids%5B%5D=2339', 'https://www.airbnb.com/s/istanbul--Turkey/homes/?&checkin=2021-04-09&checkout=2021-04-12&price_min=66&price_max=76&display_currency=TRY&neighborhood_ids%5B%5D=2339', 'https://www.airbnb.com/s/istanbul--Turkey/homes/?&checkin=2021-04-09&checkout=2021-04-12&price_min=77&price_max=100&display_currency=TRY&neighborhood_ids%5B%5D=2339', 'https://www.airbnb.com/s/istanbul--Turkey/homes/?&checkin=2021-04-09&checkout=2021-04-12&price_min=1&price_max=20&display_currency=TRY&neighborhood_ids%5B%5D=2445', 'https://www.airbnb.com/s/istanbul--Turkey/homes/?&checkin=2021-04-09&checkout=2021-04-12&price_min=20&price_max=25&display_currency=TRY&neighborhood_ids%5B%5D=2445', 'https://www.airbnb.com/s/istanbul--Turkey/homes/?&checkin=2021-04-09&checkout=2021-04-12&price_min=26&price_max=31&display_currency=TRY&neighborhood_ids%5B%5D=2445', 'https://www.airbnb.com/s/istanbul--Turkey/homes/?&checkin=2021-04-09&checkout=2021-04-12&price_min=31&price_max=36&display_currency=TRY&neighborhood_ids%5B%5D=2445', 'https://www.airbnb.com/s/istanbul--Turkey/homes/?&checkin=2021-04-09&checkout=2021-04-12&price_min=37&price_max=42&display_currency=TRY&neighborhood_ids%5B%5D=2445', 'https://www.airbnb.com/s/istanbul--Turkey/homes/?&checkin=2021-04-09&checkout=2021-04-12&price_min=43&price_max=47&display_currency=TRY&neighborhood_ids%5B%5D=2445', 'https://www.airbnb.com/s/istanbul--Turkey/homes/?&checkin=2021-04-09&checkout=2021-04-12&price_min=48&price_max=54&display_currency=TRY&neighborhood_ids%5B%5D=2445', 'https://www.airbnb.com/s/istanbul--Turkey/homes/?&checkin=2021-04-09&checkout=2021-04-12&price_min=55&price_max=65&display_currency=TRY&neighborhood_ids%5B%5D=2445', 'https://www.airbnb.com/s/istanbul--Turkey/homes/?&checkin=2021-04-09&checkout=2021-04-12&price_min=66&price_max=76&display_currency=TRY&neighborhood_ids%5B%5D=2445', 'https://www.airbnb.com/s/istanbul--Turkey/homes/?&checkin=2021-04-09&checkout=2021-04-12&price_min=77&price_max=100&display_currency=TRY&neighborhood_ids%5B%5D=2445', 'https://www.airbnb.com/s/istanbul--Turkey/homes/?&checkin=2021-04-09&checkout=2021-04-12&price_min=1&price_max=20&display_currency=TRY&neighborhood_ids%5B%5D=2526', 'https://www.airbnb.com/s/istanbul--Turkey/homes/?&checkin=2021-04-09&checkout=2021-04-12&price_min=20&price_max=25&display_currency=TRY&neighborhood_ids%5B%5D=2526', 'https://www.airbnb.com/s/istanbul--Turkey/homes/?&checkin=2021-04-09&checkout=2021-04-12&price_min=26&price_max=31&display_currency=TRY&neighborhood_ids%5B%5D=2526', 'https://www.airbnb.com/s/istanbul--Turkey/homes/?&checkin=2021-04-09&checkout=2021-04-12&price_min=31&price_max=36&display_currency=TRY&neighborhood_ids%5B%5D=2526', 'https://www.airbnb.com/s/istanbul--Turkey/homes/?&checkin=2021-04-09&checkout=2021-04-12&price_min=37&price_max=42&display_currency=TRY&neighborhood_ids%5B%5D=2526', 'https://www.airbnb.com/s/istanbul--Turkey/homes/?&checkin=2021-04-09&checkout=2021-04-12&price_min=43&price_max=47&display_currency=TRY&neighborhood_ids%5B%5D=2526', 'https://www.airbnb.com/s/istanbul--Turkey/homes/?&checkin=2021-04-09&checkout=2021-04-12&price_min=48&price_max=54&display_currency=TRY&neighborhood_ids%5B%5D=2526', 'https://www.airbnb.com/s/istanbul--Turkey/homes/?&checkin=2021-04-09&checkout=2021-04-12&price_min=55&price_max=65&display_currency=TRY&neighborhood_ids%5B%5D=2526', 'https://www.airbnb.com/s/istanbul--Turkey/homes/?&checkin=2021-04-09&checkout=2021-04-12&price_min=66&price_max=76&display_currency=TRY&neighborhood_ids%5B%5D=2526', 'https://www.airbnb.com/s/istanbul--Turkey/homes/?&checkin=2021-04-09&checkout=2021-04-12&price_min=77&price_max=100&display_currency=TRY&neighborhood_ids%5B%5D=2526', 'https://www.airbnb.com/s/istanbul--Turkey/homes/?&checkin=2021-04-09&checkout=2021-04-12&price_min=1&price_max=20&display_currency=TRY&neighborhood_ids%5B%5D=2342', 'https://www.airbnb.com/s/istanbul--Turkey/homes/?&checkin=2021-04-09&checkout=2021-04-12&price_min=20&price_max=25&display_currency=TRY&neighborhood_ids%5B%5D=2342', 'https://www.airbnb.com/s/istanbul--Turkey/homes/?&checkin=2021-04-09&checkout=2021-04-12&price_min=26&price_max=31&display_currency=TRY&neighborhood_ids%5B%5D=2342', 'https://www.airbnb.com/s/istanbul--Turkey/homes/?&checkin=2021-04-09&checkout=2021-04-12&price_min=31&price_max=36&display_currency=TRY&neighborhood_ids%5B%5D=2342', 'https://www.airbnb.com/s/istanbul--Turkey/homes/?&checkin=2021-04-09&checkout=2021-04-12&price_min=37&price_max=42&display_currency=TRY&neighborhood_ids%5B%5D=2342', 'https://www.airbnb.com/s/istanbul--Turkey/homes/?&checkin=2021-04-09&checkout=2021-04-12&price_min=43&price_max=47&display_currency=TRY&neighborhood_ids%5B%5D=2342', 'https://www.airbnb.com/s/istanbul--Turkey/homes/?&checkin=2021-04-09&checkout=2021-04-12&price_min=48&price_max=54&display_currency=TRY&neighborhood_ids%5B%5D=2342', 'https://www.airbnb.com/s/istanbul--Turkey/homes/?&checkin=2021-04-09&checkout=2021-04-12&price_min=55&price_max=65&display_currency=TRY&neighborhood_ids%5B%5D=2342', 'https://www.airbnb.com/s/istanbul--Turkey/homes/?&checkin=2021-04-09&checkout=2021-04-12&price_min=66&price_max=76&display_currency=TRY&neighborhood_ids%5B%5D=2342', 'https://www.airbnb.com/s/istanbul--Turkey/homes/?&checkin=2021-04-09&checkout=2021-04-12&price_min=77&price_max=100&display_currency=TRY&neighborhood_ids%5B%5D=2342', 'https://www.airbnb.com/s/istanbul--Turkey/homes/?&checkin=2021-04-09&checkout=2021-04-12&price_min=1&price_max=20&display_currency=TRY&neighborhood_ids%5B%5D=2525', 'https://www.airbnb.com/s/istanbul--Turkey/homes/?&checkin=2021-04-09&checkout=2021-04-12&price_min=20&price_max=25&display_currency=TRY&neighborhood_ids%5B%5D=2525', 'https://www.airbnb.com/s/istanbul--Turkey/homes/?&checkin=2021-04-09&checkout=2021-04-12&price_min=26&price_max=31&display_currency=TRY&neighborhood_ids%5B%5D=2525', 'https://www.airbnb.com/s/istanbul--Turkey/homes/?&checkin=2021-04-09&checkout=2021-04-12&price_min=31&price_max=36&display_currency=TRY&neighborhood_ids%5B%5D=2525', 'https://www.airbnb.com/s/istanbul--Turkey/homes/?&checkin=2021-04-09&checkout=2021-04-12&price_min=37&price_max=42&display_currency=TRY&neighborhood_ids%5B%5D=2525', 'https://www.airbnb.com/s/istanbul--Turkey/homes/?&checkin=2021-04-09&checkout=2021-04-12&price_min=43&price_max=47&display_currency=TRY&neighborhood_ids%5B%5D=2525', 'https://www.airbnb.com/s/istanbul--Turkey/homes/?&checkin=2021-04-09&checkout=2021-04-12&price_min=48&price_max=54&display_currency=TRY&neighborhood_ids%5B%5D=2525', 'https://www.airbnb.com/s/istanbul--Turkey/homes/?&checkin=2021-04-09&checkout=2021-04-12&price_min=55&price_max=65&display_currency=TRY&neighborhood_ids%5B%5D=2525', 'https://www.airbnb.com/s/istanbul--Turkey/homes/?&checkin=2021-04-09&checkout=2021-04-12&price_min=66&price_max=76&display_currency=TRY&neighborhood_ids%5B%5D=2525', 'https://www.airbnb.com/s/istanbul--Turkey/homes/?&checkin=2021-04-09&checkout=2021-04-12&price_min=77&price_max=100&display_currency=TRY&neighborhood_ids%5B%5D=2525', 'https://www.airbnb.com/s/istanbul--Turkey/homes/?&checkin=2021-04-09&checkout=2021-04-12&price_min=1&price_max=20&display_currency=TRY&neighborhood_ids%5B%5D=2524', 'https://www.airbnb.com/s/istanbul--Turkey/homes/?&checkin=2021-04-09&checkout=2021-04-12&price_min=20&price_max=25&display_currency=TRY&neighborhood_ids%5B%5D=2524', 'https://www.airbnb.com/s/istanbul--Turkey/homes/?&checkin=2021-04-09&checkout=2021-04-12&price_min=26&price_max=31&display_currency=TRY&neighborhood_ids%5B%5D=2524', 'https://www.airbnb.com/s/istanbul--Turkey/homes/?&checkin=2021-04-09&checkout=2021-04-12&price_min=31&price_max=36&display_currency=TRY&neighborhood_ids%5B%5D=2524', 'https://www.airbnb.com/s/istanbul--Turkey/homes/?&checkin=2021-04-09&checkout=2021-04-12&price_min=37&price_max=42&display_currency=TRY&neighborhood_ids%5B%5D=2524', 'https://www.airbnb.com/s/istanbul--Turkey/homes/?&checkin=2021-04-09&checkout=2021-04-12&price_min=43&price_max=47&display_currency=TRY&neighborhood_ids%5B%5D=2524', 'https://www.airbnb.com/s/istanbul--Turkey/homes/?&checkin=2021-04-09&checkout=2021-04-12&price_min=48&price_max=54&display_currency=TRY&neighborhood_ids%5B%5D=2524', 'https://www.airbnb.com/s/istanbul--Turkey/homes/?&checkin=2021-04-09&checkout=2021-04-12&price_min=55&price_max=65&display_currency=TRY&neighborhood_ids%5B%5D=2524', 'https://www.airbnb.com/s/istanbul--Turkey/homes/?&checkin=2021-04-09&checkout=2021-04-12&price_min=66&price_max=76&display_currency=TRY&neighborhood_ids%5B%5D=2524', 'https://www.airbnb.com/s/istanbul--Turkey/homes/?&checkin=2021-04-09&checkout=2021-04-12&price_min=77&price_max=100&display_currency=TRY&neighborhood_ids%5B%5D=2524', 'https://www.airbnb.com/s/istanbul--Turkey/homes/?&checkin=2021-04-09&checkout=2021-04-12&price_min=1&price_max=20&display_currency=TRY&neighborhood_ids%5B%5D=2431', 'https://www.airbnb.com/s/istanbul--Turkey/homes/?&checkin=2021-04-09&checkout=2021-04-12&price_min=20&price_max=25&display_currency=TRY&neighborhood_ids%5B%5D=2431', 'https://www.airbnb.com/s/istanbul--Turkey/homes/?&checkin=2021-04-09&checkout=2021-04-12&price_min=26&price_max=31&display_currency=TRY&neighborhood_ids%5B%5D=2431', 'https://www.airbnb.com/s/istanbul--Turkey/homes/?&checkin=2021-04-09&checkout=2021-04-12&price_min=31&price_max=36&display_currency=TRY&neighborhood_ids%5B%5D=2431', 'https://www.airbnb.com/s/istanbul--Turkey/homes/?&checkin=2021-04-09&checkout=2021-04-12&price_min=37&price_max=42&display_currency=TRY&neighborhood_ids%5B%5D=2431', 'https://www.airbnb.com/s/istanbul--Turkey/homes/?&checkin=2021-04-09&checkout=2021-04-12&price_min=43&price_max=47&display_currency=TRY&neighborhood_ids%5B%5D=2431', 'https://www.airbnb.com/s/istanbul--Turkey/homes/?&checkin=2021-04-09&checkout=2021-04-12&price_min=48&price_max=54&display_currency=TRY&neighborhood_ids%5B%5D=2431', 'https://www.airbnb.com/s/istanbul--Turkey/homes/?&checkin=2021-04-09&checkout=2021-04-12&price_min=55&price_max=65&display_currency=TRY&neighborhood_ids%5B%5D=2431', 'https://www.airbnb.com/s/istanbul--Turkey/homes/?&checkin=2021-04-09&checkout=2021-04-12&price_min=66&price_max=76&display_currency=TRY&neighborhood_ids%5B%5D=2431', 'https://www.airbnb.com/s/istanbul--Turkey/homes/?&checkin=2021-04-09&checkout=2021-04-12&price_min=77&price_max=100&display_currency=TRY&neighborhood_ids%5B%5D=2431', 'https://www.airbnb.com/s/istanbul--Turkey/homes/?&checkin=2021-04-09&checkout=2021-04-12&price_min=1&price_max=20&display_currency=TRY&neighborhood_ids%5B%5D=2523', 'https://www.airbnb.com/s/istanbul--Turkey/homes/?&checkin=2021-04-09&checkout=2021-04-12&price_min=20&price_max=25&display_currency=TRY&neighborhood_ids%5B%5D=2523', 'https://www.airbnb.com/s/istanbul--Turkey/homes/?&checkin=2021-04-09&checkout=2021-04-12&price_min=26&price_max=31&display_currency=TRY&neighborhood_ids%5B%5D=2523', 'https://www.airbnb.com/s/istanbul--Turkey/homes/?&checkin=2021-04-09&checkout=2021-04-12&price_min=31&price_max=36&display_currency=TRY&neighborhood_ids%5B%5D=2523', 'https://www.airbnb.com/s/istanbul--Turkey/homes/?&checkin=2021-04-09&checkout=2021-04-12&price_min=37&price_max=42&display_currency=TRY&neighborhood_ids%5B%5D=2523', 'https://www.airbnb.com/s/istanbul--Turkey/homes/?&checkin=2021-04-09&checkout=2021-04-12&price_min=43&price_max=47&display_currency=TRY&neighborhood_ids%5B%5D=2523', 'https://www.airbnb.com/s/istanbul--Turkey/homes/?&checkin=2021-04-09&checkout=2021-04-12&price_min=48&price_max=54&display_currency=TRY&neighborhood_ids%5B%5D=2523', 'https://www.airbnb.com/s/istanbul--Turkey/homes/?&checkin=2021-04-09&checkout=2021-04-12&price_min=55&price_max=65&display_currency=TRY&neighborhood_ids%5B%5D=2523', 'https://www.airbnb.com/s/istanbul--Turkey/homes/?&checkin=2021-04-09&checkout=2021-04-12&price_min=66&price_max=76&display_currency=TRY&neighborhood_ids%5B%5D=2523', 'https://www.airbnb.com/s/istanbul--Turkey/homes/?&checkin=2021-04-09&checkout=2021-04-12&price_min=77&price_max=100&display_currency=TRY&neighborhood_ids%5B%5D=2523', 'https://www.airbnb.com/s/istanbul--Turkey/homes/?&checkin=2021-04-09&checkout=2021-04-12&price_min=1&price_max=20&display_currency=TRY&neighborhood_ids%5B%5D=2444', 'https://www.airbnb.com/s/istanbul--Turkey/homes/?&checkin=2021-04-09&checkout=2021-04-12&price_min=20&price_max=25&display_currency=TRY&neighborhood_ids%5B%5D=2444', 'https://www.airbnb.com/s/istanbul--Turkey/homes/?&checkin=2021-04-09&checkout=2021-04-12&price_min=26&price_max=31&display_currency=TRY&neighborhood_ids%5B%5D=2444', 'https://www.airbnb.com/s/istanbul--Turkey/homes/?&checkin=2021-04-09&checkout=2021-04-12&price_min=31&price_max=36&display_currency=TRY&neighborhood_ids%5B%5D=2444', 'https://www.airbnb.com/s/istanbul--Turkey/homes/?&checkin=2021-04-09&checkout=2021-04-12&price_min=37&price_max=42&display_currency=TRY&neighborhood_ids%5B%5D=2444', 'https://www.airbnb.com/s/istanbul--Turkey/homes/?&checkin=2021-04-09&checkout=2021-04-12&price_min=43&price_max=47&display_currency=TRY&neighborhood_ids%5B%5D=2444', 'https://www.airbnb.com/s/istanbul--Turkey/homes/?&checkin=2021-04-09&checkout=2021-04-12&price_min=48&price_max=54&display_currency=TRY&neighborhood_ids%5B%5D=2444', 'https://www.airbnb.com/s/istanbul--Turkey/homes/?&checkin=2021-04-09&checkout=2021-04-12&price_min=55&price_max=65&display_currency=TRY&neighborhood_ids%5B%5D=2444', 'https://www.airbnb.com/s/istanbul--Turkey/homes/?&checkin=2021-04-09&checkout=2021-04-12&price_min=66&price_max=76&display_currency=TRY&neighborhood_ids%5B%5D=2444', 'https://www.airbnb.com/s/istanbul--Turkey/homes/?&checkin=2021-04-09&checkout=2021-04-12&price_min=77&price_max=100&display_currency=TRY&neighborhood_ids%5B%5D=2444']\n"
     ]
    }
   ],
   "source": [
    "url_list = []\n",
    "\n",
    "for area in range(0, areas_df.shape[0]-1):\n",
    "    for minmax in range (0, price_levels_df.shape[0]-1):\n",
    "        url_list.append(prepare_request('istanbul--Turkey', '2021-04-09', '2021-04-12', price_min=price_levels_df['Min'][minmax], price_max=price_levels_df['Max'][minmax],area_id = areas_df['area_id'][area],flexi =False))\n",
    "    \n",
    "print(url_list)"
   ]
  },
  {
   "cell_type": "code",
   "execution_count": null,
   "metadata": {},
   "outputs": [],
   "source": []
  },
  {
   "cell_type": "code",
   "execution_count": null,
   "metadata": {},
   "outputs": [],
   "source": []
  },
  {
   "cell_type": "code",
   "execution_count": null,
   "metadata": {},
   "outputs": [],
   "source": []
  }
 ],
 "metadata": {
  "kernelspec": {
   "display_name": "Python 3",
   "language": "python",
   "name": "python3"
  },
  "language_info": {
   "codemirror_mode": {
    "name": "ipython",
    "version": 3
   },
   "file_extension": ".py",
   "mimetype": "text/x-python",
   "name": "python",
   "nbconvert_exporter": "python",
   "pygments_lexer": "ipython3",
   "version": "3.7.6"
  }
 },
 "nbformat": 4,
 "nbformat_minor": 4
}
